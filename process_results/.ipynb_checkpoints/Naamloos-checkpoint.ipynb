{
 "cells": [
  {
   "cell_type": "code",
   "execution_count": 24,
   "id": "3a4d25af",
   "metadata": {},
   "outputs": [],
   "source": [
    "import numpy as np\n",
    "import os\n",
    "import ast"
   ]
  },
  {
   "cell_type": "code",
   "execution_count": 25,
   "id": "a4a06a55",
   "metadata": {},
   "outputs": [],
   "source": [
    "log_folder = \"../training_logs\"\n"
   ]
  },
  {
   "cell_type": "code",
   "execution_count": 26,
   "id": "879ca9b9",
   "metadata": {},
   "outputs": [],
   "source": [
    "def get_results(filepath):\n",
    "    with open(filepath, \"r\") as a_file:\n",
    "        for line in a_file:\n",
    "            stripped_line = line.strip()\n",
    "            print(stripped_line)\n",
    "            \n",
    "            if \"confusion_matrix\" in stripped_line:\n",
    "                results_dict = ast.literal_eval(stripped_line)\n",
    "                return results_dict\n",
    "                \n",
    "                \n",
    "def get_name_from_path(filepath):\n",
    "    filepath_list = filepath.split(\"/\")\n",
    "    \n",
    "    for l in filepath_list:\n",
    "        if \"_advancedmetrics\" in l:\n",
    "            return l.replace('_advancedmetrics','')\n",
    "    \n",
    "    "
   ]
  },
  {
   "cell_type": "code",
   "execution_count": 27,
   "id": "11072868",
   "metadata": {},
   "outputs": [
    {
     "name": "stdout",
     "output_type": "stream",
     "text": [
      "this is pathlist <generator object Path.glob at 0x7fca605e3dd0>\n",
      "path:  ../training_logs/sst2_matched_relaxed/slurm_output_7653498.out\n",
      "path:  ../training_logs/sst2_matched_relaxed/slurm_output_7653502.out\n",
      "path:  ../training_logs/sst2_matched_relaxed/slurm_output_7653501.out\n",
      "path:  ../training_logs/baseline_unmatched/s3_slurm_output_7665645.out\n",
      "path:  ../training_logs/baseline_unmatched/s1_slurm_output_7665266.out\n",
      "path:  ../training_logs/baseline_unmatched/s6_slurm_output_7665801.out\n",
      "path:  ../training_logs/baseline_unmatched/s9_slurm_output_7665887.out\n",
      "path:  ../training_logs/baseline_unmatched/s5_slurm_output_7665788.out\n",
      "path:  ../training_logs/baseline_unmatched/s8_slurm_output_7665861.out\n",
      "path:  ../training_logs/baseline_unmatched/s0_slurm_output_7665122.out\n",
      "path:  ../training_logs/baseline_unmatched/s7_slurm_output_7665826.out\n",
      "path:  ../training_logs/baseline_unmatched/s2_slurm_output_7665601.out\n",
      "path:  ../training_logs/baseline_unmatched/s4_slurm_output_7665752.out\n",
      "path:  ../training_logs/baseline_matched/slurm_output_7645041.out\n",
      "path:  ../training_logs/baseline_matched/slurm_output_7643618.out\n",
      "path:  ../training_logs/baseline_matched/slurm_output_7644958.out\n",
      "path:  ../training_logs/baseline_matched_advancedmetrics/slurm_output_7668244.out\n",
      "../training_logs/baseline_matched_advancedmetrics/slurm_output_7668244.out\n",
      "['..', 'training_logs', 'baseline_matched_advancedmetrics', 'slurm_output_7668244.out']\n"
     ]
    },
    {
     "ename": "RuntimeError",
     "evalue": "No active exception to reraise",
     "output_type": "error",
     "traceback": [
      "\u001b[0;31m---------------------------------------------------------------------------\u001b[0m",
      "\u001b[0;31mRuntimeError\u001b[0m                              Traceback (most recent call last)",
      "\u001b[0;32m<ipython-input-27-d07c3ea0e11e>\u001b[0m in \u001b[0;36m<module>\u001b[0;34m\u001b[0m\n\u001b[1;32m     10\u001b[0m         \u001b[0mprint\u001b[0m\u001b[0;34m(\u001b[0m\u001b[0mpath_in_str\u001b[0m\u001b[0;34m)\u001b[0m\u001b[0;34m\u001b[0m\u001b[0;34m\u001b[0m\u001b[0m\n\u001b[1;32m     11\u001b[0m         \u001b[0mprint\u001b[0m\u001b[0;34m(\u001b[0m\u001b[0mpath_in_str\u001b[0m\u001b[0;34m.\u001b[0m\u001b[0msplit\u001b[0m\u001b[0;34m(\u001b[0m\u001b[0;34m\"/\"\u001b[0m\u001b[0;34m)\u001b[0m\u001b[0;34m)\u001b[0m\u001b[0;34m\u001b[0m\u001b[0;34m\u001b[0m\u001b[0m\n\u001b[0;32m---> 12\u001b[0;31m         \u001b[0;32mraise\u001b[0m\u001b[0;34m\u001b[0m\u001b[0;34m\u001b[0m\u001b[0m\n\u001b[0m\u001b[1;32m     13\u001b[0m \u001b[0;34m\u001b[0m\u001b[0m\n\u001b[1;32m     14\u001b[0m         \u001b[0mget_results\u001b[0m\u001b[0;34m(\u001b[0m\u001b[0mpath_in_str\u001b[0m\u001b[0;34m)\u001b[0m\u001b[0;34m\u001b[0m\u001b[0;34m\u001b[0m\u001b[0m\n",
      "\u001b[0;31mRuntimeError\u001b[0m: No active exception to reraise"
     ]
    }
   ],
   "source": [
    "from pathlib import Path\n",
    "\n",
    "metrics = {}\n",
    "\n",
    "pathlist = Path(log_folder).glob('**/*.out')\n",
    "print(\"this is pathlist\", pathlist)\n",
    "for path in pathlist:\n",
    "    print(\"path: \", path)\n",
    "    # because path is object not string\n",
    "    filepath = str(path)\n",
    "    if \"advancedmetric\" in filepath:\n",
    "        \n",
    "        name = get_name_from_path(filepath)\n",
    "        \n",
    "        results = get_results(filepath)\n",
    "        \n",
    "        "
   ]
  },
  {
   "cell_type": "code",
   "execution_count": null,
   "id": "dd6230fd",
   "metadata": {},
   "outputs": [],
   "source": []
  }
 ],
 "metadata": {
  "kernelspec": {
   "display_name": "Python [conda env:CDM] *",
   "language": "python",
   "name": "conda-env-CDM-py"
  },
  "language_info": {
   "codemirror_mode": {
    "name": "ipython",
    "version": 3
   },
   "file_extension": ".py",
   "mimetype": "text/x-python",
   "name": "python",
   "nbconvert_exporter": "python",
   "pygments_lexer": "ipython3",
   "version": "3.7.5"
  }
 },
 "nbformat": 4,
 "nbformat_minor": 5
}
